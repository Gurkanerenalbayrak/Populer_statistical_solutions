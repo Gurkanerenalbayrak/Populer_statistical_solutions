{
 "cells": [
  {
   "cell_type": "code",
   "execution_count": 1,
   "id": "998aa989",
   "metadata": {},
   "outputs": [
    {
     "name": "stdout",
     "output_type": "stream",
     "text": [
      "Attacker lost 2 soldiers: Relative Frequency = 0.2990\n",
      "Each side lost 1 soldier: Relative Frequency = 0.3200\n",
      "Defender lost 2 soldiers: Relative Frequency = 0.3810\n"
     ]
    }
   ],
   "source": [
    "# Problem 2 / first question \n",
    "\n",
    "import random\n",
    "\n",
    "def simulate_battle():\n",
    "    \n",
    "    attacker_dice = [random.randint(1, 6) for _ in range(3)]\n",
    "    defender_dice = [random.randint(1, 6) for _ in range(2)]\n",
    "    \n",
    "    \n",
    "    attacker_dice.sort(reverse=True)\n",
    "    defender_dice.sort(reverse=True)\n",
    "    \n",
    "    \n",
    "    attacker_losses = 0\n",
    "    defender_losses = 0\n",
    "    \n",
    "    for i in range(2):\n",
    "        if attacker_dice[i] > defender_dice[i]:\n",
    "            defender_losses += 1\n",
    "        elif attacker_dice[i] < defender_dice[i]:\n",
    "            attacker_losses += 1\n",
    "        else:\n",
    "            attacker_losses += 1 \n",
    "    \n",
    "    return attacker_losses, defender_losses\n",
    "\n",
    "\n",
    "simulations = 1000\n",
    "outcomes = {\n",
    "    \"Attacker lost 2 soldiers\": 0,\n",
    "    \"Each side lost 1 soldier\": 0,\n",
    "    \"Defender lost 2 soldiers\": 0\n",
    "}\n",
    "\n",
    "for _ in range(simulations):\n",
    "    attacker_losses, defender_losses = simulate_battle()\n",
    "    if attacker_losses == 2:\n",
    "        outcomes[\"Attacker lost 2 soldiers\"] += 1\n",
    "    elif attacker_losses == defender_losses == 1:\n",
    "        outcomes[\"Each side lost 1 soldier\"] += 1\n",
    "    elif defender_losses == 2:\n",
    "        outcomes[\"Defender lost 2 soldiers\"] += 1\n",
    "\n",
    "\n",
    "total_simulations = simulations  #1000\n",
    "relative_frequencies = {event: count / total_simulations for event, count in outcomes.items()}\n",
    "\n",
    "\n",
    "for event, frequency in relative_frequencies.items():\n",
    "    print(f\"{event}: Relative Frequency = {frequency:.4f}\")\n"
   ]
  },
  {
   "cell_type": "code",
   "execution_count": 2,
   "id": "6795761d",
   "metadata": {},
   "outputs": [
    {
     "data": {
      "text/plain": [
       "dict_items([('Attacker lost 2 soldiers', 0.299), ('Each side lost 1 soldier', 0.32), ('Defender lost 2 soldiers', 0.381)])"
      ]
     },
     "execution_count": 2,
     "metadata": {},
     "output_type": "execute_result"
    }
   ],
   "source": [
    "relative_frequencies.items()"
   ]
  },
  {
   "cell_type": "code",
   "execution_count": 3,
   "id": "7702d93f",
   "metadata": {},
   "outputs": [
    {
     "name": "stdout",
     "output_type": "stream",
     "text": [
      "Attacker lost 2 soldiers: Relative Frequency = 0.2924\n",
      "Each side lost 1 soldier: Relative Frequency = 0.3357\n",
      "Defender lost 2 soldiers: Relative Frequency = 0.3719\n"
     ]
    }
   ],
   "source": [
    "# Problem 2 / second question \n",
    "\n",
    "import random\n",
    "\n",
    "def simulate_battle():\n",
    "    \n",
    "    attacker_dice = [random.randint(1, 6) for _ in range(3)]\n",
    "    defender_dice = [random.randint(1, 6) for _ in range(2)]\n",
    "    \n",
    "    \n",
    "    attacker_dice.sort(reverse=True)\n",
    "    defender_dice.sort(reverse=True)\n",
    "    \n",
    "    \n",
    "    attacker_losses = 0\n",
    "    defender_losses = 0\n",
    "    \n",
    "    for i in range(2):\n",
    "        if attacker_dice[i] > defender_dice[i]:\n",
    "            defender_losses += 1\n",
    "        elif attacker_dice[i] < defender_dice[i]:\n",
    "            attacker_losses += 1\n",
    "        else:\n",
    "            attacker_losses += 1 \n",
    "    \n",
    "    return attacker_losses, defender_losses\n",
    "\n",
    "\n",
    "simulations = 1000000\n",
    "outcomes = {\n",
    "    \"Attacker lost 2 soldiers\": 0,\n",
    "    \"Each side lost 1 soldier\": 0,\n",
    "    \"Defender lost 2 soldiers\": 0\n",
    "}\n",
    "\n",
    "for _ in range(simulations):\n",
    "    attacker_losses, defender_losses = simulate_battle()\n",
    "    if attacker_losses == 2:\n",
    "        outcomes[\"Attacker lost 2 soldiers\"] += 1\n",
    "    elif attacker_losses == defender_losses == 1:\n",
    "        outcomes[\"Each side lost 1 soldier\"] += 1\n",
    "    elif defender_losses == 2:\n",
    "        outcomes[\"Defender lost 2 soldiers\"] += 1\n",
    "\n",
    "\n",
    "total_simulations = simulations  #1000\n",
    "relative_frequencies = {event: count / total_simulations for event, count in outcomes.items()}\n",
    "\n",
    "\n",
    "for event, frequency in relative_frequencies.items():\n",
    "    print(f\"{event}: Relative Frequency = {frequency:.4f}\")\n"
   ]
  },
  {
   "cell_type": "code",
   "execution_count": 4,
   "id": "996bdd56",
   "metadata": {},
   "outputs": [
    {
     "name": "stdout",
     "output_type": "stream",
     "text": [
      "0.00000   1.00000   0.00000\n"
     ]
    }
   ],
   "source": [
    "# Problem 2 / third question\n",
    "\n",
    "\n",
    "from itertools import product\n",
    "\n",
    "\n",
    "def exact_probabilities():\n",
    "    favorable_cases1 = 0\n",
    "    favorable_cases2 = 0\n",
    "    favorable_cases3 = 0\n",
    "    total = 0\n",
    "    \n",
    "    attacker_dice_rolls = product(range(1, 7), repeat=3)\n",
    "    defender_dice_rolls = product(range(1, 7), repeat=2)\n",
    "    \n",
    "    for attacker_dice in attacker_dice_rolls:\n",
    "        for defender_dice in defender_dice_rolls:\n",
    "            attacker_dice = sorted(attacker_dice, reverse=True)\n",
    "            defender_dice = sorted(defender_dice, reverse=True)\n",
    "            \n",
    "            outcome1 = 0  \n",
    "            outcome2 = 0  \n",
    "            \n",
    "            \n",
    "            \n",
    "            for i in range(2):\n",
    "                if attacker_dice[i] > defender_dice[i]:\n",
    "                    outcome1 += 1\n",
    "                elif attacker_dice[i] <= defender_dice[i]:\n",
    "                    outcome2 += 1\n",
    "            \n",
    "            \n",
    "            if outcome1 == 2:\n",
    "                favorable_cases1 += 1\n",
    "            elif outcome2 == 2:\n",
    "                favorable_cases2 += 1\n",
    "            else:\n",
    "                favorable_cases3 += 1\n",
    "            total += 1\n",
    "    \n",
    "    probability1 = favorable_cases1 / total #attack win\n",
    "    probability2 = favorable_cases2 / total #defender win\n",
    "    probability3 = favorable_cases3 / total #eşit\n",
    "    return probability1, probability2, probability3\n",
    "\n",
    "\n",
    "probability_attacker_win, probability_defender_loses_2, probability_both_lose_1 = exact_probabilities()\n",
    "\n",
    "\n",
    "print(f\"{probability_attacker_win:.5f}   {probability_defender_loses_2:.5f}   {probability_both_lose_1:.5f}\")\n"
   ]
  },
  {
   "cell_type": "code",
   "execution_count": 5,
   "id": "9ca228ad",
   "metadata": {},
   "outputs": [
    {
     "name": "stdout",
     "output_type": "stream",
     "text": [
      "0.1622\n"
     ]
    }
   ],
   "source": [
    "#problem 3 \n",
    "\n",
    "import random\n",
    "\n",
    "def simulate_one_trial():\n",
    "    coin_sequence = [random.choice(['H', 'T']) for _ in range(50)]\n",
    "    longest_run = 1\n",
    "    current_run = 1\n",
    "\n",
    "    for i in range(1, 50):\n",
    "        if coin_sequence[i] == coin_sequence[i - 1]:\n",
    "            current_run += 1\n",
    "            if current_run > longest_run:\n",
    "                longest_run = current_run\n",
    "        else:\n",
    "            current_run = 1\n",
    "\n",
    "    return longest_run\n",
    "\n",
    "\n",
    "num_trials = 10000\n",
    "count_runs_of_8_or_more = 0\n",
    "\n",
    "for _ in range(num_trials):\n",
    "    longest_run = simulate_one_trial()\n",
    "    if longest_run >= 8:\n",
    "        count_runs_of_8_or_more += 1\n",
    "\n",
    "\n",
    "probability = count_runs_of_8_or_more / num_trials\n",
    "\n",
    "\n",
    "print(f\"{probability:.4f}\")"
   ]
  },
  {
   "cell_type": "code",
   "execution_count": null,
   "id": "43e164ea",
   "metadata": {},
   "outputs": [],
   "source": []
  },
  {
   "cell_type": "code",
   "execution_count": null,
   "id": "116768bb",
   "metadata": {},
   "outputs": [],
   "source": []
  },
  {
   "cell_type": "code",
   "execution_count": null,
   "id": "f391fe80",
   "metadata": {},
   "outputs": [],
   "source": []
  },
  {
   "cell_type": "code",
   "execution_count": null,
   "id": "5a0ab2c0",
   "metadata": {},
   "outputs": [],
   "source": []
  },
  {
   "cell_type": "code",
   "execution_count": null,
   "id": "3bbd90f0",
   "metadata": {},
   "outputs": [],
   "source": []
  },
  {
   "cell_type": "code",
   "execution_count": null,
   "id": "c021fa11",
   "metadata": {},
   "outputs": [],
   "source": []
  }
 ],
 "metadata": {
  "kernelspec": {
   "display_name": "Python 3 (ipykernel)",
   "language": "python",
   "name": "python3"
  },
  "language_info": {
   "codemirror_mode": {
    "name": "ipython",
    "version": 3
   },
   "file_extension": ".py",
   "mimetype": "text/x-python",
   "name": "python",
   "nbconvert_exporter": "python",
   "pygments_lexer": "ipython3",
   "version": "3.8.18"
  }
 },
 "nbformat": 4,
 "nbformat_minor": 5
}
